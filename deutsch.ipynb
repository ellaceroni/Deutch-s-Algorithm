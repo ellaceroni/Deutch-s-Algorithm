{
 "cells": [
  {
   "cell_type": "code",
   "execution_count": 2,
   "id": "c0d5263a-e380-4e80-8fc9-3b8509953d29",
   "metadata": {},
   "outputs": [],
   "source": [
    "import pennylane as qml\n",
    "import numpy as np"
   ]
  },
  {
   "cell_type": "code",
   "execution_count": 18,
   "id": "97daa30c-ff00-4ee8-b867-132cee34ed64",
   "metadata": {},
   "outputs": [],
   "source": [
    "# Creates the quantum device\n",
    "dev = qml.device('default.qubit', wires=2, shots=1)"
   ]
  },
  {
   "cell_type": "code",
   "execution_count": 29,
   "id": "ebbf17d9-b080-43f1-a8f2-d89f78a6411b",
   "metadata": {},
   "outputs": [],
   "source": [
    "# This is the function we are interested in\n",
    "def f(x):\n",
    "    # f : {0, 1} --> {0, 1}\n",
    "    if x == 0:\n",
    "        return 0\n",
    "    if x == 1:\n",
    "        return 0"
   ]
  },
  {
   "cell_type": "code",
   "execution_count": 30,
   "id": "e85c0dc4-e797-4519-822e-00d079aeea01",
   "metadata": {},
   "outputs": [],
   "source": [
    "# Prepares the oracle\n",
    "def U(g):\n",
    "    u = np.array([\n",
    "        [1 - g(0), g(0), 0, 0],\n",
    "        [g(0), 1 - g(0), 0, 0],\n",
    "        [0, 0, 1 - g(1), g(1)],\n",
    "        [0, 0, g(1), 1 - g(1)]\n",
    "    ])\n",
    "    return u"
   ]
  },
  {
   "cell_type": "code",
   "execution_count": 31,
   "id": "5a3943f9-19e0-41a1-804d-ab67d71003ec",
   "metadata": {},
   "outputs": [],
   "source": [
    "# Defines the U_f matrix\n",
    "U_f = U(f)"
   ]
  },
  {
   "cell_type": "code",
   "execution_count": 32,
   "id": "198317b7-e991-4cb4-9306-d6c9736132a6",
   "metadata": {},
   "outputs": [],
   "source": [
    "# Creates a QNode\n",
    "\n",
    "@qml.qnode(dev)\n",
    "def circuit():\n",
    "    \n",
    "    # Initialize the qubits\n",
    "    qml.PauliX(wires=1)\n",
    "    \n",
    "    # Applies the Hadamards\n",
    "    qml.Hadamard(wires=0)\n",
    "    qml.Hadamard(wires=1)\n",
    "    \n",
    "    # Apply the oracle\n",
    "    qml.QubitUnitary(U_f, wires=[0, 1])\n",
    "    \n",
    "    # Applies the final Hadamard\n",
    "    qml.Hadamard(wires=0)\n",
    "    \n",
    "    # Measure\n",
    "    return qml.sample(wires=0)"
   ]
  },
  {
   "cell_type": "code",
   "execution_count": 33,
   "id": "5a9ff33a-51da-4ed5-9335-20932d85601b",
   "metadata": {},
   "outputs": [
    {
     "data": {
      "text/plain": [
       "array(0)"
      ]
     },
     "execution_count": 33,
     "metadata": {},
     "output_type": "execute_result"
    }
   ],
   "source": [
    "circuit()"
   ]
  }
 ],
 "metadata": {
  "kernelspec": {
   "display_name": "Python 3 (ipykernel)",
   "language": "python",
   "name": "python3"
  },
  "language_info": {
   "codemirror_mode": {
    "name": "ipython",
    "version": 3
   },
   "file_extension": ".py",
   "mimetype": "text/x-python",
   "name": "python",
   "nbconvert_exporter": "python",
   "pygments_lexer": "ipython3",
   "version": "3.9.6"
  }
 },
 "nbformat": 4,
 "nbformat_minor": 5
}
